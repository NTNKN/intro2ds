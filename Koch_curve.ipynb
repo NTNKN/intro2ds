{
 "cells": [
  {
   "cell_type": "code",
   "execution_count": 1,
   "metadata": {},
   "outputs": [],
   "source": [
    "#matplotlib inline\n",
    "import numpy as np\n",
    "import matplotlib.pyplot as plt\n",
    "from ipywidgets import interact"
   ]
  },
  {
   "cell_type": "code",
   "execution_count": 2,
   "metadata": {},
   "outputs": [],
   "source": [
    "def draw_Koch_curve (N=0):\n",
    "    x = np.zeros( (4**N,2) )\n",
    "    t = np.zeros( 4**N, dtype = int )\n",
    "    a = np.array( [ [0.0, 0.0], [1.0/3.0, 0.0], [1.0/2.0, 1.0/np.sqrt(12.0)], [2.0/3.0, 0.0] ] )\n",
    "    b = np.array( [0, 1, -1, 0])\n",
    "    \n",
    "    for i in range (N):\n",
    "        for k in range (4**(i+1)):\n",
    "            x[ k*4**(N-i-1) : (k+1)*4**(N-i-1), : ] += np.dot(np.array([ [np.cos(np.pi/3.0*t[k*4**(N-i-1)]), -np.sin(np.pi/3.0*t[k*4**(N-i-1)])], [ np.sin(np.pi/3.0*t[k*4**(N-i-1)]), np.cos(np.pi/3.0*t[k*4**(N-i-1)])] ]),a[k%4]) / np.power(3,i)\n",
    "            t[ k*4**(N-i-1) : (k+1)*4**(N-i-1)] += b[k%4]\n",
    "    \n",
    "    x = np.insert(x, len(x), [1.0, 0.0], axis=0)\n",
    "    fig, ax = plt.subplots( figsize=(8, 8) )\n",
    "    ax.set_xlim([-0.1, 1.1])\n",
    "    ax.set_ylim([-0.6, 0.6])\n",
    "    ax.plot(x.T[0], x.T[1])\n"
   ]
  },
  {
   "cell_type": "code",
   "execution_count": 3,
   "metadata": {},
   "outputs": [
    {
     "data": {
      "application/vnd.jupyter.widget-view+json": {
       "model_id": "17c2f0fa566b4cd5ab3eb8b07fdfc3f1",
       "version_major": 2,
       "version_minor": 0
      },
      "text/plain": [
       "interactive(children=(IntSlider(value=0, description='N', max=10), Output()), _dom_classes=('widget-interact',…"
      ]
     },
     "metadata": {},
     "output_type": "display_data"
    },
    {
     "data": {
      "text/plain": [
       "<function __main__.draw_Koch_curve(N=0)>"
      ]
     },
     "execution_count": 3,
     "metadata": {},
     "output_type": "execute_result"
    }
   ],
   "source": [
    "interact( draw_Koch_curve, N=(0, 10, 1) )"
   ]
  },
  {
   "cell_type": "code",
   "execution_count": null,
   "metadata": {},
   "outputs": [],
   "source": []
  }
 ],
 "metadata": {
  "kernelspec": {
   "display_name": "Python 3",
   "language": "python",
   "name": "python3"
  },
  "language_info": {
   "codemirror_mode": {
    "name": "ipython",
    "version": 3
   },
   "file_extension": ".py",
   "mimetype": "text/x-python",
   "name": "python",
   "nbconvert_exporter": "python",
   "pygments_lexer": "ipython3",
   "version": "3.7.4"
  }
 },
 "nbformat": 4,
 "nbformat_minor": 2
}
