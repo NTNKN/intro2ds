{
 "cells": [
  {
   "cell_type": "code",
   "execution_count": 220,
   "metadata": {},
   "outputs": [],
   "source": [
    "%matplotlib inline\n",
    "import numpy as np\n",
    "import matplotlib.pyplot as plt\n",
    "from ipywidgets import interact"
   ]
  },
  {
   "cell_type": "code",
   "execution_count": 3,
   "metadata": {},
   "outputs": [],
   "source": [
    "a1 = np.array([1.0, 0.0])\n",
    "a2 = np.array([0.5, np.sqrt(0.75)])"
   ]
  },
  {
   "cell_type": "code",
   "execution_count": 105,
   "metadata": {},
   "outputs": [],
   "source": [
    "def draw_sierpinski_gasket_proto (N=0):\n",
    "    fig = plt.figure()\n",
    "    ax = fig.add_subplot(1,1,1)\n",
    "    ax.set_xlim([-0.1, 1.1])\n",
    "    ax.set_ylim([-0.1, 1.1])\n",
    "    x = np.array([0.0, 0.0])\n",
    "    x0 = np.copy(x)\n",
    "    x1 = x0 + a1\n",
    "    x2 = x0 + a2\n",
    "    XX = np.array([x0])\n",
    "    XX = np.insert(XX, 0, x1, axis=0)\n",
    "    XX = np.insert(XX, 0, x2, axis=0)\n",
    "    ax.scatter(XX.T[0], XX.T[1], s=100)\n",
    "    \n",
    "    x00 = np.copy(x0)\n",
    "    x01 = x0 + 0.5*a1\n",
    "    x02 = x00 + 0.5*a2\n",
    "    x10 = x00 + 0.5*a1\n",
    "    x11 = x10 + 0.5*a1\n",
    "    x12 = x10 + 0.5*a2\n",
    "    x20 = x0 + 0.5*a2\n",
    "    x21 = x20 + 0.5*a1\n",
    "    x22 = x20 + 0.5*a2\n",
    "    XX = np.array([x00])\n",
    "    XX = np.insert(XX, 0, x01, axis=0)\n",
    "    XX = np.insert(XX, 0, x02, axis=0)\n",
    "    \n",
    "    XX = np.insert(XX, 0, x10, axis=0)\n",
    "    XX = np.insert(XX, 0, x11, axis=0)\n",
    "    XX = np.insert(XX, 0, x12, axis=0)\n",
    "    \n",
    "    XX = np.insert(XX, 0, x20, axis=0)\n",
    "    XX = np.insert(XX, 0, x21, axis=0)\n",
    "    XX = np.insert(XX, 0, x22, axis=0)\n",
    "    ax.scatter(XX.T[0], XX.T[1], s=100)\n",
    "    \n",
    "    #for i in range (N):\n",
    "    #    ax.plot([])\n"
   ]
  },
  {
   "cell_type": "code",
   "execution_count": null,
   "metadata": {},
   "outputs": [],
   "source": [
    "def draw_sierpinski_gasket_proto2 (N=0):\n",
    "    n = 3**N\n",
    "    x = np.zeros((2,n)) # location of left vertex of triangle\n",
    "    for i in range (n):\n",
    "        a = np.zeros(N)\n",
    "        k = i\n",
    "        for j in range (N):\n",
    "            a[j] = k % 3\n",
    "            k = k // 3\n",
    "        x[0,i] = \n",
    "    \n",
    "    \n",
    "    \n",
    "    fig = plt.figure()\n",
    "    ax = fig.add_subplot(1,1,1)\n",
    "    ax.set_xlim([-0.1, 1.1])\n",
    "    ax.set_ylim([-0.1, 1.1])\n",
    "    x = np.array([0.0, 0.0])\n",
    "    x0 = np.copy(x)\n",
    "    x1 = x0 + a1\n",
    "    x2 = x0 + a2\n",
    "    XX = np.array([x0])\n",
    "    XX = np.insert(XX, 0, x1, axis=0)\n",
    "    XX = np.insert(XX, 0, x2, axis=0)\n",
    "    ax.scatter(XX.T[0], XX.T[1], s=100)\n",
    "    \n",
    "    x00 = np.copy(x0)\n",
    "    x01 = x0 + 0.5*a1\n",
    "    x02 = x00 + 0.5*a2\n",
    "    x10 = x00 + 0.5*a1\n",
    "    x11 = x10 + 0.5*a1\n",
    "    x12 = x10 + 0.5*a2\n",
    "    x20 = x0 + 0.5*a2\n",
    "    x21 = x20 + 0.5*a1\n",
    "    x22 = x20 + 0.5*a2\n",
    "    XX = np.array([x00])\n",
    "    XX = np.insert(XX, 0, x01, axis=0)\n",
    "    XX = np.insert(XX, 0, x02, axis=0)\n",
    "    \n",
    "    XX = np.insert(XX, 0, x10, axis=0)\n",
    "    XX = np.insert(XX, 0, x11, axis=0)\n",
    "    XX = np.insert(XX, 0, x12, axis=0)\n",
    "    \n",
    "    XX = np.insert(XX, 0, x20, axis=0)\n",
    "    XX = np.insert(XX, 0, x21, axis=0)\n",
    "    XX = np.insert(XX, 0, x22, axis=0)\n",
    "    ax.scatter(XX.T[0], XX.T[1], s=100)\n",
    "    \n",
    "    #for i in range (N):\n",
    "    #    ax.plot([])\n"
   ]
  },
  {
   "cell_type": "code",
   "execution_count": 106,
   "metadata": {},
   "outputs": [
    {
     "data": {
      "application/vnd.jupyter.widget-view+json": {
       "model_id": "fb234bf101cb48038b9501071f3cb223",
       "version_major": 2,
       "version_minor": 0
      },
      "text/plain": [
       "interactive(children=(IntSlider(value=0, description='N', max=10), Output()), _dom_classes=('widget-interact',…"
      ]
     },
     "metadata": {},
     "output_type": "display_data"
    },
    {
     "data": {
      "text/plain": [
       "<function __main__.draw_sierpinski_gasket(N=0)>"
      ]
     },
     "execution_count": 106,
     "metadata": {},
     "output_type": "execute_result"
    }
   ],
   "source": [
    "interact( draw_sierpinski_gasket, N=(0, 10, 1) )"
   ]
  },
  {
   "cell_type": "code",
   "execution_count": 60,
   "metadata": {},
   "outputs": [],
   "source": [
    "a = np.array([0,0])\n",
    "b = np.array([1,2])"
   ]
  },
  {
   "cell_type": "code",
   "execution_count": 55,
   "metadata": {},
   "outputs": [
    {
     "data": {
      "text/plain": [
       "array([[1, 2],\n",
       "       [0, 0]])"
      ]
     },
     "execution_count": 55,
     "metadata": {},
     "output_type": "execute_result"
    }
   ],
   "source": [
    "c = np.array([a])\n",
    "c = np.insert(c,-1,b,axis=0)\n",
    "c"
   ]
  },
  {
   "cell_type": "code",
   "execution_count": 142,
   "metadata": {},
   "outputs": [
    {
     "name": "stdout",
     "output_type": "stream",
     "text": [
      "0 [0. 0. 0.] [0. 0.]\n",
      "1 [0. 0. 1.] [0.125 0.   ]\n",
      "2 [0. 0. 2.] [0.0625     0.10825318]\n",
      "3 [0. 1. 0.] [0.25 0.  ]\n",
      "4 [0. 1. 1.] [0.375 0.   ]\n",
      "5 [0. 1. 2.] [0.3125     0.10825318]\n",
      "6 [0. 2. 0.] [0.125      0.21650635]\n",
      "7 [0. 2. 1.] [0.25       0.21650635]\n",
      "8 [0. 2. 2.] [0.1875     0.32475953]\n",
      "9 [1. 0. 0.] [0.5 0. ]\n",
      "10 [1. 0. 1.] [0.625 0.   ]\n",
      "11 [1. 0. 2.] [0.5625     0.10825318]\n",
      "12 [1. 1. 0.] [0.75 0.  ]\n",
      "13 [1. 1. 1.] [0.875 0.   ]\n",
      "14 [1. 1. 2.] [0.8125     0.10825318]\n",
      "15 [1. 2. 0.] [0.625      0.21650635]\n",
      "16 [1. 2. 1.] [0.75       0.21650635]\n",
      "17 [1. 2. 2.] [0.6875     0.32475953]\n",
      "18 [2. 0. 0.] [0.25      0.4330127]\n",
      "19 [2. 0. 1.] [0.375     0.4330127]\n",
      "20 [2. 0. 2.] [0.3125     0.54126588]\n",
      "21 [2. 1. 0.] [0.5       0.4330127]\n",
      "22 [2. 1. 1.] [0.625     0.4330127]\n",
      "23 [2. 1. 2.] [0.5625     0.54126588]\n",
      "24 [2. 2. 0.] [0.375      0.64951905]\n",
      "25 [2. 2. 1.] [0.5        0.64951905]\n",
      "26 [2. 2. 2.] [0.4375     0.75777223]\n"
     ]
    },
    {
     "data": {
      "text/plain": [
       "<matplotlib.collections.PathCollection at 0x10d363e48>"
      ]
     },
     "execution_count": 142,
     "metadata": {},
     "output_type": "execute_result"
    },
    {
     "data": {
      "image/png": "[encoded data removed]",
      "text/plain": [
       "<Figure size 432x288 with 1 Axes>"
      ]
     },
     "metadata": {},
     "output_type": "display_data"
    }
   ],
   "source": [
    "N=3\n",
    "n = 3**N\n",
    "x = np.zeros((n,2))\n",
    "a = np.array([[0.0, 0.0], a1, a2])\n",
    "\n",
    "x[0*3**(N-1):1*3**(N-1), :] += 0.5*a[0]\n",
    "x[1*3**(N-1):2*3**(N-1), :] += 0.5*a[1]\n",
    "x[2*3**(N-1):3*3**(N-1), :] += 0.5*a[2]\n",
    "\n",
    "x[0*3**(N-2):1*3**(N-2), :] += 0.25*a[0]\n",
    "x[1*3**(N-2):2*3**(N-2), :] += 0.25*a[1]\n",
    "x[2*3**(N-2):3*3**(N-2), :] += 0.25*a[2]\n",
    "x[3*3**(N-2):4*3**(N-2), :] += 0.25*a[0]\n",
    "x[4*3**(N-2):5*3**(N-2), :] += 0.25*a[1]\n",
    "x[5*3**(N-2):6*3**(N-2), :] += 0.25*a[2]\n",
    "x[6*3**(N-2):7*3**(N-2), :] += 0.25*a[0]\n",
    "x[7*3**(N-2):8*3**(N-2), :] += 0.25*a[1]\n",
    "x[8*3**(N-2):9*3**(N-2), :] += 0.25*a[2]\n",
    "\n",
    "x[ 0*3**(N-3): 1*3**(N-3), :] += 0.125*a[0]\n",
    "x[ 1*3**(N-3): 2*3**(N-3), :] += 0.125*a[1]\n",
    "x[ 2*3**(N-3): 3*3**(N-3), :] += 0.125*a[2]\n",
    "x[ 3*3**(N-3): 4*3**(N-3), :] += 0.125*a[0]\n",
    "x[ 4*3**(N-3): 5*3**(N-3), :] += 0.125*a[1]\n",
    "x[ 5*3**(N-3): 6*3**(N-3), :] += 0.125*a[2]\n",
    "x[ 6*3**(N-3): 7*3**(N-3), :] += 0.125*a[0]\n",
    "x[ 7*3**(N-3): 8*3**(N-3), :] += 0.125*a[1]\n",
    "x[ 8*3**(N-3): 9*3**(N-3), :] += 0.125*a[2]\n",
    "x[ 9*3**(N-3):10*3**(N-3), :] += 0.125*a[0]\n",
    "x[10*3**(N-3):11*3**(N-3), :] += 0.125*a[1]\n",
    "x[11*3**(N-3):12*3**(N-3), :] += 0.125*a[2]\n",
    "x[12*3**(N-3):13*3**(N-3), :] += 0.125*a[0]\n",
    "x[13*3**(N-3):14*3**(N-3), :] += 0.125*a[1]\n",
    "x[14*3**(N-3):15*3**(N-3), :] += 0.125*a[2]\n",
    "x[15*3**(N-3):16*3**(N-3), :] += 0.125*a[0]\n",
    "x[16*3**(N-3):17*3**(N-3), :] += 0.125*a[1]\n",
    "x[17*3**(N-3):18*3**(N-3), :] += 0.125*a[2]\n",
    "x[18*3**(N-3):19*3**(N-3), :] += 0.125*a[0]\n",
    "x[19*3**(N-3):20*3**(N-3), :] += 0.125*a[1]\n",
    "x[20*3**(N-3):21*3**(N-3), :] += 0.125*a[2]\n",
    "x[21*3**(N-3):22*3**(N-3), :] += 0.125*a[0]\n",
    "x[22*3**(N-3):23*3**(N-3), :] += 0.125*a[1]\n",
    "x[23*3**(N-3):24*3**(N-3), :] += 0.125*a[2]\n",
    "x[24*3**(N-3):25*3**(N-3), :] += 0.125*a[0]\n",
    "x[25*3**(N-3):26*3**(N-3), :] += 0.125*a[1]\n",
    "x[26*3**(N-3):27*3**(N-3), :] += 0.125*a[2]\n",
    "\n",
    "for i in range (n):\n",
    "    a = np.zeros(N)\n",
    "    k = i\n",
    "    for j in range (N):\n",
    "        a[N-1-j] = k % 3\n",
    "        k = k // 3\n",
    "    print( i, a, x[i, :] )\n",
    "\n",
    "plt.scatter(x.T[0], x.T[1])"
   ]
  },
  {
   "cell_type": "code",
   "execution_count": 203,
   "metadata": {},
   "outputs": [
    {
     "data": {
      "text/plain": [
       "<matplotlib.collections.PathCollection at 0x113a6f240>"
      ]
     },
     "execution_count": 203,
     "metadata": {},
     "output_type": "execute_result"
    },
    {
     "data": {
      "image/png": "[encoded data removed]",
      "text/plain": [
       "<Figure size 576x576 with 1 Axes>"
      ]
     },
     "metadata": {},
     "output_type": "display_data"
    }
   ],
   "source": [
    "N=8\n",
    "x = np.zeros((3**N,2))\n",
    "a = np.array( [[0.0, 0.0], [1.0, 0.0], [0.5, np.sqrt(0.75)]] )\n",
    "\n",
    "for i in range (N):\n",
    "    for k in range (3**(i+1)):\n",
    "        x[ k*3**(N-i-1) : (k+1)*3**(N-i-1), : ] += a[k%3] / np.power(2,i+1)\n",
    "\n",
    "fig, ax = plt.subplots( figsize=(8, 8) )\n",
    "ax.set_xlim([0.5-1/np.sqrt(3.0), 0.5+1/np.sqrt(3.0)])\n",
    "ax.set_ylim([np.sqrt(3.0)/2-2/np.sqrt(3.0), np.sqrt(3.0)/2])\n",
    "ax.scatter (x.T[0], x.T[1], s=2)\n",
    "ax.scatter ((a[0,0]+a[1,0]+a[2,0])/3+np.cos(np.linspace(0,2*3.141592,100))/np.sqrt(3.0), \n",
    "            (a[0,1]+a[1,1]+a[2,1])/3+np.sin(np.linspace(0,2*3.141592,100))/np.sqrt(3.0))"
   ]
  },
  {
   "cell_type": "code",
   "execution_count": 168,
   "metadata": {},
   "outputs": [
    {
     "data": {
      "text/plain": [
       "0.25"
      ]
     },
     "execution_count": 168,
     "metadata": {},
     "output_type": "execute_result"
    }
   ],
   "source": [
    "sqrt(3.)/6-sqrt3/2"
   ]
  },
  {
   "cell_type": "code",
   "execution_count": 206,
   "metadata": {},
   "outputs": [],
   "source": [
    "def draw_sierpinski_gasket_dot (N=0):\n",
    "    x = np.zeros((3**N,2))\n",
    "    a = np.array( [[0.0, 0.0], [1.0, 0.0], [0.5, np.sqrt(0.75)]] )\n",
    "\n",
    "    for i in range (N):\n",
    "        for k in range (3**(i+1)):\n",
    "            x[ k*3**(N-i-1) : (k+1)*3**(N-i-1), : ] += a[k%3] / np.power(2,i+1)\n",
    "\n",
    "    fig, ax = plt.subplots( figsize=(8, 8) )\n",
    "    ax.set_xlim([0.5-1/np.sqrt(3.0), 0.5+1/np.sqrt(3.0)])\n",
    "    ax.set_ylim([np.sqrt(3.0)/2-2/np.sqrt(3.0), np.sqrt(3.0)/2])\n",
    "    ax.scatter (x.T[0], x.T[1], s=20)\n",
    "    ax.scatter ((a[0,0]+a[1,0]+a[2,0])/3+np.cos(np.linspace(0,2*3.141592,100))/np.sqrt(3.0), \n",
    "                (a[0,1]+a[1,1]+a[2,1])/3+np.sin(np.linspace(0,2*3.141592,100))/np.sqrt(3.0))    "
   ]
  },
  {
   "cell_type": "code",
   "execution_count": 207,
   "metadata": {},
   "outputs": [
    {
     "data": {
      "application/vnd.jupyter.widget-view+json": {
       "model_id": "26e1167275e649f5af34e2d2da3c7321",
       "version_major": 2,
       "version_minor": 0
      },
      "text/plain": [
       "interactive(children=(IntSlider(value=0, description='N', max=10), Output()), _dom_classes=('widget-interact',…"
      ]
     },
     "metadata": {},
     "output_type": "display_data"
    },
    {
     "data": {
      "text/plain": [
       "<function __main__.draw_sierpinski_gasket(N=0)>"
      ]
     },
     "execution_count": 207,
     "metadata": {},
     "output_type": "execute_result"
    }
   ],
   "source": [
    "interact( draw_sierpinski_gasket, N=(0, 10, 1) )"
   ]
  },
  {
   "cell_type": "code",
   "execution_count": 217,
   "metadata": {},
   "outputs": [
    {
     "data": {
      "image/png": "[encoded data removed]",
      "text/plain": [
       "<Figure size 576x576 with 1 Axes>"
      ]
     },
     "metadata": {},
     "output_type": "display_data"
    }
   ],
   "source": [
    "N=5\n",
    "x = np.zeros((3**N,2))\n",
    "a = np.array( [[0.0, 0.0], [1.0, 0.0], [0.5, np.sqrt(0.75)]] )\n",
    "\n",
    "for i in range (N):\n",
    "    for k in range (3**(i+1)):\n",
    "        x[ k*3**(N-i-1) : (k+1)*3**(N-i-1), : ] += a[k%3] / np.power(2,i+1)\n",
    "\n",
    "fig, ax = plt.subplots( figsize=(8, 8) )\n",
    "ax.set_xlim([0.5-1/np.sqrt(3.0), 0.5+1/np.sqrt(3.0)])\n",
    "ax.set_ylim([np.sqrt(3.0)/2-2/np.sqrt(3.0), np.sqrt(3.0)/2])\n",
    "for i in range (len(x)):\n",
    "    xx = [x[i,0], x[i,0]+1.0/np.power(2,N+1), x[i,0]+1.0/np.power(2,N)]\n",
    "    yy = [x[i,1], x[i,1], x[i,1]]\n",
    "    zz = [x[i,1], x[i,1]+a[2,1]/np.power(2,N), x[i,1]]\n",
    "    ax.fill_between(xx, yy, zz, where=yy<=zz, facecolor='k', alpha=0.8)\n",
    "\n"
   ]
  },
  {
   "cell_type": "code",
   "execution_count": 218,
   "metadata": {},
   "outputs": [],
   "source": [
    "def draw_sierpinski_gasket (N=0):\n",
    "    x = np.zeros((3**N,2))\n",
    "    a = np.array( [[0.0, 0.0], [1.0, 0.0], [0.5, np.sqrt(0.75)]] )\n",
    "\n",
    "    for i in range (N):\n",
    "        for k in range (3**(i+1)):\n",
    "            x[ k*3**(N-i-1) : (k+1)*3**(N-i-1), : ] += a[k%3] / np.power(2,i+1)\n",
    "\n",
    "    fig, ax = plt.subplots( figsize=(8, 8) )\n",
    "    ax.set_xlim([0.5-1/np.sqrt(3.0), 0.5+1/np.sqrt(3.0)])\n",
    "    ax.set_ylim([np.sqrt(3.0)/2-2/np.sqrt(3.0), np.sqrt(3.0)/2])\n",
    "    for i in range (len(x)):\n",
    "        xx = [x[i,0], x[i,0]+1.0/np.power(2,N+1), x[i,0]+1.0/np.power(2,N)]\n",
    "        yy = [x[i,1], x[i,1], x[i,1]]\n",
    "        zz = [x[i,1], x[i,1]+a[2,1]/np.power(2,N), x[i,1]]\n",
    "        ax.fill_between(xx, yy, zz, where=yy<=zz, facecolor='k', alpha=0.8)\n"
   ]
  },
  {
   "cell_type": "code",
   "execution_count": 219,
   "metadata": {},
   "outputs": [
    {
     "data": {
      "application/vnd.jupyter.widget-view+json": {
       "model_id": "576dea138e594e7b976278bcf693ebee",
       "version_major": 2,
       "version_minor": 0
      },
      "text/plain": [
       "interactive(children=(IntSlider(value=0, description='N', max=10), Output()), _dom_classes=('widget-interact',…"
      ]
     },
     "metadata": {},
     "output_type": "display_data"
    },
    {
     "data": {
      "text/plain": [
       "<function __main__.draw_sierpinski_gasket(N=0)>"
      ]
     },
     "execution_count": 219,
     "metadata": {},
     "output_type": "execute_result"
    }
   ],
   "source": [
    "interact( draw_sierpinski_gasket, N=(0, 10, 1) )"
   ]
  },
  {
   "cell_type": "code",
   "execution_count": null,
   "metadata": {},
   "outputs": [],
   "source": []
  }
 ],
 "metadata": {
  "kernelspec": {
   "display_name": "Python 3",
   "language": "python",
   "name": "python3"
  },
  "language_info": {
   "codemirror_mode": {
    "name": "ipython",
    "version": 3
   },
   "file_extension": ".py",
   "mimetype": "text/x-python",
   "name": "python",
   "nbconvert_exporter": "python",
   "pygments_lexer": "ipython3",
   "version": "3.6.5"
  }
 },
 "nbformat": 4,
 "nbformat_minor": 2
}
